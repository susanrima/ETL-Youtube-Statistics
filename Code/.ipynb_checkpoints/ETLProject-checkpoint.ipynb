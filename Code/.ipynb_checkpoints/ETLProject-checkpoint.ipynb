{
 "cells": [
  {
   "cell_type": "markdown",
   "metadata": {},
   "source": [
    "### DEPENDENCIES & SETUP"
   ]
  },
  {
   "cell_type": "code",
   "execution_count": null,
   "metadata": {},
   "outputs": [],
   "source": [
    "# Dependencies and Setup\n",
    "import pandas as pd\n",
    "from sqlalchemy import create_engine\n",
    "import datetime\n",
    "import numpy as np\n",
    "import psycopg2\n",
    "from pandas.io.json import json_normalize"
   ]
  },
  {
   "cell_type": "markdown",
   "metadata": {},
   "source": [
    "### EXTRACT (from CSV)"
   ]
  },
  {
   "cell_type": "code",
   "execution_count": 2,
   "metadata": {},
   "outputs": [],
   "source": [
    "#Read Canada data from csv\n",
    "csv_file1 = \"../Resources/CAvideos.csv\"\n",
    "videos_ca = pd.read_csv(csv_file1)"
   ]
  },
  {
   "cell_type": "code",
   "execution_count": 3,
   "metadata": {},
   "outputs": [],
   "source": [
    "#Add country columns\n",
    "videos_ca.loc[:,'country_id'] = 'CA'\n",
    "videos_ca.loc[:,'country'] = 'Canada'"
   ]
  },
  {
   "cell_type": "code",
   "execution_count": 4,
   "metadata": {},
   "outputs": [],
   "source": [
    "#retain required columns\n",
    "videos_ca_subset = videos_ca[[\"country_id\",\"country\",\"video_id\",\"category_id\",\"trending_date\",\"title\",\"publish_time\",\"likes\",\"dislikes\",\"views\",\n",
    "                              \"comment_count\",\"comments_disabled\",\"ratings_disabled\",\"description\"]]"
   ]
  },
  {
   "cell_type": "code",
   "execution_count": 5,
   "metadata": {},
   "outputs": [],
   "source": [
    "#Read Mexico data from CSV\n",
    "csv_file2 = \"../Resources/MXvideos.csv\"\n",
    "videos_mx = pd.read_csv(csv_file2, encoding='ISO-8859-1')"
   ]
  },
  {
   "cell_type": "code",
   "execution_count": 6,
   "metadata": {},
   "outputs": [],
   "source": [
    "#Add country columns\n",
    "videos_mx.loc[:,'country_id'] = 'MX'\n",
    "videos_mx.loc[:,'country'] = 'Mexico'"
   ]
  },
  {
   "cell_type": "code",
   "execution_count": 7,
   "metadata": {},
   "outputs": [],
   "source": [
    "#retain required columns\n",
    "videos_mx_subset = videos_mx[[\"country_id\",\"country\",\"video_id\",\"category_id\",\"trending_date\",\"title\",\"publish_time\",\"likes\",\"dislikes\",\"views\",\n",
    "                              \"comment_count\",\"comments_disabled\",\"ratings_disabled\",\"description\"]]"
   ]
  },
  {
   "cell_type": "code",
   "execution_count": 8,
   "metadata": {},
   "outputs": [],
   "source": [
    "#Read US data from CSV\n",
    "csv_file3 = \"../Resources/USvideos.csv\"\n",
    "videos_us = pd.read_csv(csv_file3)"
   ]
  },
  {
   "cell_type": "code",
   "execution_count": 9,
   "metadata": {},
   "outputs": [],
   "source": [
    "#add country columns\n",
    "videos_us.loc[:,'country_id'] = 'US'\n",
    "videos_us.loc[:,'country'] = 'United States'"
   ]
  },
  {
   "cell_type": "code",
   "execution_count": 10,
   "metadata": {},
   "outputs": [],
   "source": [
    "#retain required columns\n",
    "videos_us_subset = videos_us[[\"country_id\",\"country\",\"video_id\",\"category_id\",\"trending_date\",\"title\",\"publish_time\",\"likes\",\"dislikes\",\"views\",\n",
    "                              \"comment_count\",\"comments_disabled\",\"ratings_disabled\",\"description\"]]"
   ]
  },
  {
   "cell_type": "markdown",
   "metadata": {},
   "source": [
    "### EXTRACT (from JSON)"
   ]
  },
  {
   "cell_type": "code",
   "execution_count": 11,
   "metadata": {},
   "outputs": [],
   "source": [
    "#dependencies\n",
    "import json\n",
    "import os\n",
    "\n",
    "from pandas.io.json import json_normalize #package for flattening json in pandas df"
   ]
  },
  {
   "cell_type": "code",
   "execution_count": 12,
   "metadata": {},
   "outputs": [],
   "source": [
    "# Load JSON for US categories\n",
    "filepath = os.path.join(\"../Resources\", \"US_category_id.json\")\n",
    "with open(filepath) as jsonfile:\n",
    "    us_video_json = json.load(jsonfile)"
   ]
  },
  {
   "cell_type": "code",
   "execution_count": 13,
   "metadata": {},
   "outputs": [
    {
     "data": {
      "text/plain": [
       "'1'"
      ]
     },
     "execution_count": 13,
     "metadata": {},
     "output_type": "execute_result"
    }
   ],
   "source": [
    "#Extract category id\n",
    "us_video_json['items'][0]['id']"
   ]
  },
  {
   "cell_type": "code",
   "execution_count": 14,
   "metadata": {},
   "outputs": [
    {
     "data": {
      "text/plain": [
       "'Film & Animation'"
      ]
     },
     "execution_count": 14,
     "metadata": {},
     "output_type": "execute_result"
    }
   ],
   "source": [
    "#Extract category name\n",
    "us_video_json['items'][0]['snippet']['title']"
   ]
  },
  {
   "cell_type": "code",
   "execution_count": 15,
   "metadata": {},
   "outputs": [
    {
     "data": {
      "text/html": [
       "<div>\n",
       "<style scoped>\n",
       "    .dataframe tbody tr th:only-of-type {\n",
       "        vertical-align: middle;\n",
       "    }\n",
       "\n",
       "    .dataframe tbody tr th {\n",
       "        vertical-align: top;\n",
       "    }\n",
       "\n",
       "    .dataframe thead th {\n",
       "        text-align: right;\n",
       "    }\n",
       "</style>\n",
       "<table border=\"1\" class=\"dataframe\">\n",
       "  <thead>\n",
       "    <tr style=\"text-align: right;\">\n",
       "      <th></th>\n",
       "      <th>etag</th>\n",
       "      <th>category_id</th>\n",
       "      <th>kind</th>\n",
       "      <th>snippet.assignable</th>\n",
       "      <th>snippet.channelId</th>\n",
       "      <th>category_name</th>\n",
       "    </tr>\n",
       "  </thead>\n",
       "  <tbody>\n",
       "    <tr>\n",
       "      <th>0</th>\n",
       "      <td>\"m2yskBQFythfE4irbTIeOgYYfBU/Xy1mB4_yLrHy_BmKm...</td>\n",
       "      <td>1</td>\n",
       "      <td>youtube#videoCategory</td>\n",
       "      <td>True</td>\n",
       "      <td>UCBR8-60-B28hp2BmDPdntcQ</td>\n",
       "      <td>Film &amp; Animation</td>\n",
       "    </tr>\n",
       "    <tr>\n",
       "      <th>1</th>\n",
       "      <td>\"m2yskBQFythfE4irbTIeOgYYfBU/UZ1oLIIz2dxIhO45Z...</td>\n",
       "      <td>2</td>\n",
       "      <td>youtube#videoCategory</td>\n",
       "      <td>True</td>\n",
       "      <td>UCBR8-60-B28hp2BmDPdntcQ</td>\n",
       "      <td>Autos &amp; Vehicles</td>\n",
       "    </tr>\n",
       "    <tr>\n",
       "      <th>2</th>\n",
       "      <td>\"m2yskBQFythfE4irbTIeOgYYfBU/nqRIq97-xe5XRZTxb...</td>\n",
       "      <td>10</td>\n",
       "      <td>youtube#videoCategory</td>\n",
       "      <td>True</td>\n",
       "      <td>UCBR8-60-B28hp2BmDPdntcQ</td>\n",
       "      <td>Music</td>\n",
       "    </tr>\n",
       "    <tr>\n",
       "      <th>3</th>\n",
       "      <td>\"m2yskBQFythfE4irbTIeOgYYfBU/HwXKamM1Q20q9BN-o...</td>\n",
       "      <td>15</td>\n",
       "      <td>youtube#videoCategory</td>\n",
       "      <td>True</td>\n",
       "      <td>UCBR8-60-B28hp2BmDPdntcQ</td>\n",
       "      <td>Pets &amp; Animals</td>\n",
       "    </tr>\n",
       "    <tr>\n",
       "      <th>4</th>\n",
       "      <td>\"m2yskBQFythfE4irbTIeOgYYfBU/9GQMSRjrZdHeb1OEM...</td>\n",
       "      <td>17</td>\n",
       "      <td>youtube#videoCategory</td>\n",
       "      <td>True</td>\n",
       "      <td>UCBR8-60-B28hp2BmDPdntcQ</td>\n",
       "      <td>Sports</td>\n",
       "    </tr>\n",
       "  </tbody>\n",
       "</table>\n",
       "</div>"
      ],
      "text/plain": [
       "                                                etag category_id  \\\n",
       "0  \"m2yskBQFythfE4irbTIeOgYYfBU/Xy1mB4_yLrHy_BmKm...           1   \n",
       "1  \"m2yskBQFythfE4irbTIeOgYYfBU/UZ1oLIIz2dxIhO45Z...           2   \n",
       "2  \"m2yskBQFythfE4irbTIeOgYYfBU/nqRIq97-xe5XRZTxb...          10   \n",
       "3  \"m2yskBQFythfE4irbTIeOgYYfBU/HwXKamM1Q20q9BN-o...          15   \n",
       "4  \"m2yskBQFythfE4irbTIeOgYYfBU/9GQMSRjrZdHeb1OEM...          17   \n",
       "\n",
       "                    kind  snippet.assignable         snippet.channelId  \\\n",
       "0  youtube#videoCategory                True  UCBR8-60-B28hp2BmDPdntcQ   \n",
       "1  youtube#videoCategory                True  UCBR8-60-B28hp2BmDPdntcQ   \n",
       "2  youtube#videoCategory                True  UCBR8-60-B28hp2BmDPdntcQ   \n",
       "3  youtube#videoCategory                True  UCBR8-60-B28hp2BmDPdntcQ   \n",
       "4  youtube#videoCategory                True  UCBR8-60-B28hp2BmDPdntcQ   \n",
       "\n",
       "      category_name  \n",
       "0  Film & Animation  \n",
       "1  Autos & Vehicles  \n",
       "2             Music  \n",
       "3    Pets & Animals  \n",
       "4            Sports  "
      ]
     },
     "execution_count": 15,
     "metadata": {},
     "output_type": "execute_result"
    }
   ],
   "source": [
    "#flattening the nested json to dataframe\n",
    "us_video_json_normalized = json_normalize(us_video_json['items'])\n",
    "\n",
    "#rename column names (id to category_id) and (snippet.title to category name)\n",
    "us_video_json_normalized.rename(columns={'id':'category_id',\n",
    "                          'snippet.title':'category_name'}, \n",
    "                 inplace=True)\n",
    "us_video_json_normalized.head()"
   ]
  },
  {
   "cell_type": "code",
   "execution_count": 16,
   "metadata": {},
   "outputs": [
    {
     "data": {
      "text/html": [
       "<div>\n",
       "<style scoped>\n",
       "    .dataframe tbody tr th:only-of-type {\n",
       "        vertical-align: middle;\n",
       "    }\n",
       "\n",
       "    .dataframe tbody tr th {\n",
       "        vertical-align: top;\n",
       "    }\n",
       "\n",
       "    .dataframe thead th {\n",
       "        text-align: right;\n",
       "    }\n",
       "</style>\n",
       "<table border=\"1\" class=\"dataframe\">\n",
       "  <thead>\n",
       "    <tr style=\"text-align: right;\">\n",
       "      <th></th>\n",
       "      <th>category_id</th>\n",
       "      <th>category_name</th>\n",
       "    </tr>\n",
       "  </thead>\n",
       "  <tbody>\n",
       "    <tr>\n",
       "      <th>0</th>\n",
       "      <td>1</td>\n",
       "      <td>Film &amp; Animation</td>\n",
       "    </tr>\n",
       "    <tr>\n",
       "      <th>1</th>\n",
       "      <td>2</td>\n",
       "      <td>Autos &amp; Vehicles</td>\n",
       "    </tr>\n",
       "    <tr>\n",
       "      <th>2</th>\n",
       "      <td>10</td>\n",
       "      <td>Music</td>\n",
       "    </tr>\n",
       "    <tr>\n",
       "      <th>3</th>\n",
       "      <td>15</td>\n",
       "      <td>Pets &amp; Animals</td>\n",
       "    </tr>\n",
       "    <tr>\n",
       "      <th>4</th>\n",
       "      <td>17</td>\n",
       "      <td>Sports</td>\n",
       "    </tr>\n",
       "  </tbody>\n",
       "</table>\n",
       "</div>"
      ],
      "text/plain": [
       "  category_id     category_name\n",
       "0           1  Film & Animation\n",
       "1           2  Autos & Vehicles\n",
       "2          10             Music\n",
       "3          15    Pets & Animals\n",
       "4          17            Sports"
      ]
     },
     "execution_count": 16,
     "metadata": {},
     "output_type": "execute_result"
    }
   ],
   "source": [
    "#dataframe with video categories for category table\n",
    "category = us_video_json_normalized[[\"category_id\",\"category_name\"]]\n",
    "category.head(5)"
   ]
  },
  {
   "cell_type": "markdown",
   "metadata": {},
   "source": [
    "### TRANSFORM"
   ]
  },
  {
   "cell_type": "code",
   "execution_count": 17,
   "metadata": {},
   "outputs": [],
   "source": [
    "#concatenate all the three CSV extracted datasets (US+CA+MX) to one dataset for North America\n",
    "files = [videos_us_subset, videos_ca_subset, videos_mx_subset]\n",
    "videos_northamerica = pd.concat(files)"
   ]
  },
  {
   "cell_type": "code",
   "execution_count": 18,
   "metadata": {},
   "outputs": [],
   "source": [
    "#format dates to standard form\n",
    "videos_northamerica['trending_date_formatted'] = pd.to_datetime(videos_northamerica['trending_date'],format='%y.%d.%m')\n",
    "videos_northamerica['publish_date_formatted']  = videos_northamerica['publish_time'].str[:10]"
   ]
  },
  {
   "cell_type": "code",
   "execution_count": 19,
   "metadata": {},
   "outputs": [],
   "source": [
    "#remove records with no video_id\n",
    "videos_northamerica = videos_northamerica[videos_northamerica.video_id != \"#NAME?\"]"
   ]
  },
  {
   "cell_type": "code",
   "execution_count": 20,
   "metadata": {},
   "outputs": [],
   "source": [
    "#remove duplicates to retain unique video ids from the north america dataset\n",
    "videos_northamerica_unique = videos_northamerica.drop_duplicates('video_id',keep='first')\n",
    "\n",
    "#retain only the required columns for table1 ' videos'\n",
    "videos = videos_northamerica_unique[[\"video_id\",\"title\",\"publish_date_formatted\"]]\n"
   ]
  },
  {
   "cell_type": "markdown",
   "metadata": {},
   "source": [
    "##### Table 1  | videos ###### (source: csv)"
   ]
  },
  {
   "cell_type": "code",
   "execution_count": 21,
   "metadata": {},
   "outputs": [
    {
     "data": {
      "text/html": [
       "<div>\n",
       "<style scoped>\n",
       "    .dataframe tbody tr th:only-of-type {\n",
       "        vertical-align: middle;\n",
       "    }\n",
       "\n",
       "    .dataframe tbody tr th {\n",
       "        vertical-align: top;\n",
       "    }\n",
       "\n",
       "    .dataframe thead th {\n",
       "        text-align: right;\n",
       "    }\n",
       "</style>\n",
       "<table border=\"1\" class=\"dataframe\">\n",
       "  <thead>\n",
       "    <tr style=\"text-align: right;\">\n",
       "      <th></th>\n",
       "      <th>video_id</th>\n",
       "      <th>title</th>\n",
       "      <th>publish_date_formatted</th>\n",
       "    </tr>\n",
       "  </thead>\n",
       "  <tbody>\n",
       "    <tr>\n",
       "      <th>0</th>\n",
       "      <td>2kyS6SvSYSE</td>\n",
       "      <td>WE WANT TO TALK ABOUT OUR MARRIAGE</td>\n",
       "      <td>2017-11-13</td>\n",
       "    </tr>\n",
       "    <tr>\n",
       "      <th>1</th>\n",
       "      <td>1ZAPwfrtAFY</td>\n",
       "      <td>The Trump Presidency: Last Week Tonight with J...</td>\n",
       "      <td>2017-11-13</td>\n",
       "    </tr>\n",
       "    <tr>\n",
       "      <th>2</th>\n",
       "      <td>5qpjK5DgCt4</td>\n",
       "      <td>Racist Superman | Rudy Mancuso, King Bach &amp; Le...</td>\n",
       "      <td>2017-11-12</td>\n",
       "    </tr>\n",
       "    <tr>\n",
       "      <th>3</th>\n",
       "      <td>puqaWrEC7tY</td>\n",
       "      <td>Nickelback Lyrics: Real or Fake?</td>\n",
       "      <td>2017-11-13</td>\n",
       "    </tr>\n",
       "    <tr>\n",
       "      <th>4</th>\n",
       "      <td>d380meD0W0M</td>\n",
       "      <td>I Dare You: GOING BALD!?</td>\n",
       "      <td>2017-11-12</td>\n",
       "    </tr>\n",
       "  </tbody>\n",
       "</table>\n",
       "</div>"
      ],
      "text/plain": [
       "      video_id                                              title  \\\n",
       "0  2kyS6SvSYSE                 WE WANT TO TALK ABOUT OUR MARRIAGE   \n",
       "1  1ZAPwfrtAFY  The Trump Presidency: Last Week Tonight with J...   \n",
       "2  5qpjK5DgCt4  Racist Superman | Rudy Mancuso, King Bach & Le...   \n",
       "3  puqaWrEC7tY                   Nickelback Lyrics: Real or Fake?   \n",
       "4  d380meD0W0M                           I Dare You: GOING BALD!?   \n",
       "\n",
       "  publish_date_formatted  \n",
       "0             2017-11-13  \n",
       "1             2017-11-13  \n",
       "2             2017-11-12  \n",
       "3             2017-11-13  \n",
       "4             2017-11-12  "
      ]
     },
     "execution_count": 21,
     "metadata": {},
     "output_type": "execute_result"
    }
   ],
   "source": [
    "videos.head()"
   ]
  },
  {
   "cell_type": "markdown",
   "metadata": {},
   "source": [
    "##### Table 2 | country\n",
    "###### (from csv)"
   ]
  },
  {
   "cell_type": "code",
   "execution_count": 22,
   "metadata": {},
   "outputs": [
    {
     "data": {
      "text/html": [
       "<div>\n",
       "<style scoped>\n",
       "    .dataframe tbody tr th:only-of-type {\n",
       "        vertical-align: middle;\n",
       "    }\n",
       "\n",
       "    .dataframe tbody tr th {\n",
       "        vertical-align: top;\n",
       "    }\n",
       "\n",
       "    .dataframe thead th {\n",
       "        text-align: right;\n",
       "    }\n",
       "</style>\n",
       "<table border=\"1\" class=\"dataframe\">\n",
       "  <thead>\n",
       "    <tr style=\"text-align: right;\">\n",
       "      <th></th>\n",
       "      <th>country_id</th>\n",
       "      <th>country</th>\n",
       "    </tr>\n",
       "  </thead>\n",
       "  <tbody>\n",
       "    <tr>\n",
       "      <th>0</th>\n",
       "      <td>US</td>\n",
       "      <td>United States</td>\n",
       "    </tr>\n",
       "    <tr>\n",
       "      <th>0</th>\n",
       "      <td>CA</td>\n",
       "      <td>Canada</td>\n",
       "    </tr>\n",
       "    <tr>\n",
       "      <th>0</th>\n",
       "      <td>MX</td>\n",
       "      <td>Mexico</td>\n",
       "    </tr>\n",
       "  </tbody>\n",
       "</table>\n",
       "</div>"
      ],
      "text/plain": [
       "  country_id        country\n",
       "0         US  United States\n",
       "0         CA         Canada\n",
       "0         MX         Mexico"
      ]
     },
     "execution_count": 22,
     "metadata": {},
     "output_type": "execute_result"
    }
   ],
   "source": [
    "country = videos_northamerica.drop_duplicates('country_id',keep='first')\n",
    "country = country[[\"country_id\",\"country\"]]\n",
    "country.head()"
   ]
  },
  {
   "cell_type": "markdown",
   "metadata": {},
   "source": [
    "##### Table 3 | popularity\n",
    "###### (from csv)"
   ]
  },
  {
   "cell_type": "code",
   "execution_count": 23,
   "metadata": {
    "scrolled": false
   },
   "outputs": [
    {
     "data": {
      "text/html": [
       "<div>\n",
       "<style scoped>\n",
       "    .dataframe tbody tr th:only-of-type {\n",
       "        vertical-align: middle;\n",
       "    }\n",
       "\n",
       "    .dataframe tbody tr th {\n",
       "        vertical-align: top;\n",
       "    }\n",
       "\n",
       "    .dataframe thead th {\n",
       "        text-align: right;\n",
       "    }\n",
       "</style>\n",
       "<table border=\"1\" class=\"dataframe\">\n",
       "  <thead>\n",
       "    <tr style=\"text-align: right;\">\n",
       "      <th></th>\n",
       "      <th>id</th>\n",
       "      <th>country_id</th>\n",
       "      <th>video_id</th>\n",
       "      <th>category_id</th>\n",
       "      <th>trending_date_formatted</th>\n",
       "      <th>likes</th>\n",
       "      <th>dislikes</th>\n",
       "      <th>views</th>\n",
       "      <th>comment_count</th>\n",
       "      <th>comments_disabled</th>\n",
       "      <th>ratings_disabled</th>\n",
       "      <th>description</th>\n",
       "    </tr>\n",
       "  </thead>\n",
       "  <tbody>\n",
       "    <tr>\n",
       "      <th>0</th>\n",
       "      <td>1</td>\n",
       "      <td>US</td>\n",
       "      <td>2kyS6SvSYSE</td>\n",
       "      <td>22</td>\n",
       "      <td>2017-11-14</td>\n",
       "      <td>57527</td>\n",
       "      <td>2966</td>\n",
       "      <td>748374</td>\n",
       "      <td>15954</td>\n",
       "      <td>False</td>\n",
       "      <td>False</td>\n",
       "      <td>SHANTELL'S CHANNEL - https://www.youtube.com/s...</td>\n",
       "    </tr>\n",
       "    <tr>\n",
       "      <th>1</th>\n",
       "      <td>2</td>\n",
       "      <td>US</td>\n",
       "      <td>1ZAPwfrtAFY</td>\n",
       "      <td>24</td>\n",
       "      <td>2017-11-14</td>\n",
       "      <td>97185</td>\n",
       "      <td>6146</td>\n",
       "      <td>2418783</td>\n",
       "      <td>12703</td>\n",
       "      <td>False</td>\n",
       "      <td>False</td>\n",
       "      <td>One year after the presidential election, John...</td>\n",
       "    </tr>\n",
       "    <tr>\n",
       "      <th>2</th>\n",
       "      <td>3</td>\n",
       "      <td>US</td>\n",
       "      <td>5qpjK5DgCt4</td>\n",
       "      <td>23</td>\n",
       "      <td>2017-11-14</td>\n",
       "      <td>146033</td>\n",
       "      <td>5339</td>\n",
       "      <td>3191434</td>\n",
       "      <td>8181</td>\n",
       "      <td>False</td>\n",
       "      <td>False</td>\n",
       "      <td>WATCH MY PREVIOUS VIDEO ▶ \\n\\nSUBSCRIBE ► http...</td>\n",
       "    </tr>\n",
       "    <tr>\n",
       "      <th>3</th>\n",
       "      <td>4</td>\n",
       "      <td>US</td>\n",
       "      <td>puqaWrEC7tY</td>\n",
       "      <td>24</td>\n",
       "      <td>2017-11-14</td>\n",
       "      <td>10172</td>\n",
       "      <td>666</td>\n",
       "      <td>343168</td>\n",
       "      <td>2146</td>\n",
       "      <td>False</td>\n",
       "      <td>False</td>\n",
       "      <td>Today we find out if Link is a Nickelback amat...</td>\n",
       "    </tr>\n",
       "    <tr>\n",
       "      <th>4</th>\n",
       "      <td>5</td>\n",
       "      <td>US</td>\n",
       "      <td>d380meD0W0M</td>\n",
       "      <td>24</td>\n",
       "      <td>2017-11-14</td>\n",
       "      <td>132235</td>\n",
       "      <td>1989</td>\n",
       "      <td>2095731</td>\n",
       "      <td>17518</td>\n",
       "      <td>False</td>\n",
       "      <td>False</td>\n",
       "      <td>I know it's been a while since we did this sho...</td>\n",
       "    </tr>\n",
       "  </tbody>\n",
       "</table>\n",
       "</div>"
      ],
      "text/plain": [
       "   id country_id     video_id  category_id trending_date_formatted   likes  \\\n",
       "0   1         US  2kyS6SvSYSE           22              2017-11-14   57527   \n",
       "1   2         US  1ZAPwfrtAFY           24              2017-11-14   97185   \n",
       "2   3         US  5qpjK5DgCt4           23              2017-11-14  146033   \n",
       "3   4         US  puqaWrEC7tY           24              2017-11-14   10172   \n",
       "4   5         US  d380meD0W0M           24              2017-11-14  132235   \n",
       "\n",
       "   dislikes    views  comment_count  comments_disabled  ratings_disabled  \\\n",
       "0      2966   748374          15954              False             False   \n",
       "1      6146  2418783          12703              False             False   \n",
       "2      5339  3191434           8181              False             False   \n",
       "3       666   343168           2146              False             False   \n",
       "4      1989  2095731          17518              False             False   \n",
       "\n",
       "                                         description  \n",
       "0  SHANTELL'S CHANNEL - https://www.youtube.com/s...  \n",
       "1  One year after the presidential election, John...  \n",
       "2  WATCH MY PREVIOUS VIDEO ▶ \\n\\nSUBSCRIBE ► http...  \n",
       "3  Today we find out if Link is a Nickelback amat...  \n",
       "4  I know it's been a while since we did this sho...  "
      ]
     },
     "execution_count": 23,
     "metadata": {},
     "output_type": "execute_result"
    }
   ],
   "source": [
    "popularity = videos_northamerica[[\"country_id\",\"video_id\",\"category_id\",\"trending_date_formatted\",\"likes\",\"dislikes\",\"views\",\n",
    "                                  \"comment_count\",\"comments_disabled\",\"ratings_disabled\",\"description\"]]\n",
    "#popularity.loc[:,\"id\"] = np.arange(len(popularity))\n",
    "\n",
    "\n",
    "popularity.insert(0, 'id', range(1, 1 + len(popularity)))\n",
    "popularity.head(5)"
   ]
  },
  {
   "cell_type": "markdown",
   "metadata": {},
   "source": [
    "##### Table 4 | category\n",
    "###### (from json)"
   ]
  },
  {
   "cell_type": "code",
   "execution_count": 24,
   "metadata": {},
   "outputs": [
    {
     "data": {
      "text/html": [
       "<div>\n",
       "<style scoped>\n",
       "    .dataframe tbody tr th:only-of-type {\n",
       "        vertical-align: middle;\n",
       "    }\n",
       "\n",
       "    .dataframe tbody tr th {\n",
       "        vertical-align: top;\n",
       "    }\n",
       "\n",
       "    .dataframe thead th {\n",
       "        text-align: right;\n",
       "    }\n",
       "</style>\n",
       "<table border=\"1\" class=\"dataframe\">\n",
       "  <thead>\n",
       "    <tr style=\"text-align: right;\">\n",
       "      <th></th>\n",
       "      <th>etag</th>\n",
       "      <th>category_id</th>\n",
       "      <th>kind</th>\n",
       "      <th>snippet.assignable</th>\n",
       "      <th>snippet.channelId</th>\n",
       "      <th>category_name</th>\n",
       "    </tr>\n",
       "  </thead>\n",
       "  <tbody>\n",
       "    <tr>\n",
       "      <th>0</th>\n",
       "      <td>\"m2yskBQFythfE4irbTIeOgYYfBU/Xy1mB4_yLrHy_BmKm...</td>\n",
       "      <td>1</td>\n",
       "      <td>youtube#videoCategory</td>\n",
       "      <td>True</td>\n",
       "      <td>UCBR8-60-B28hp2BmDPdntcQ</td>\n",
       "      <td>Film &amp; Animation</td>\n",
       "    </tr>\n",
       "    <tr>\n",
       "      <th>1</th>\n",
       "      <td>\"m2yskBQFythfE4irbTIeOgYYfBU/UZ1oLIIz2dxIhO45Z...</td>\n",
       "      <td>2</td>\n",
       "      <td>youtube#videoCategory</td>\n",
       "      <td>True</td>\n",
       "      <td>UCBR8-60-B28hp2BmDPdntcQ</td>\n",
       "      <td>Autos &amp; Vehicles</td>\n",
       "    </tr>\n",
       "    <tr>\n",
       "      <th>2</th>\n",
       "      <td>\"m2yskBQFythfE4irbTIeOgYYfBU/nqRIq97-xe5XRZTxb...</td>\n",
       "      <td>10</td>\n",
       "      <td>youtube#videoCategory</td>\n",
       "      <td>True</td>\n",
       "      <td>UCBR8-60-B28hp2BmDPdntcQ</td>\n",
       "      <td>Music</td>\n",
       "    </tr>\n",
       "    <tr>\n",
       "      <th>3</th>\n",
       "      <td>\"m2yskBQFythfE4irbTIeOgYYfBU/HwXKamM1Q20q9BN-o...</td>\n",
       "      <td>15</td>\n",
       "      <td>youtube#videoCategory</td>\n",
       "      <td>True</td>\n",
       "      <td>UCBR8-60-B28hp2BmDPdntcQ</td>\n",
       "      <td>Pets &amp; Animals</td>\n",
       "    </tr>\n",
       "    <tr>\n",
       "      <th>4</th>\n",
       "      <td>\"m2yskBQFythfE4irbTIeOgYYfBU/9GQMSRjrZdHeb1OEM...</td>\n",
       "      <td>17</td>\n",
       "      <td>youtube#videoCategory</td>\n",
       "      <td>True</td>\n",
       "      <td>UCBR8-60-B28hp2BmDPdntcQ</td>\n",
       "      <td>Sports</td>\n",
       "    </tr>\n",
       "  </tbody>\n",
       "</table>\n",
       "</div>"
      ],
      "text/plain": [
       "                                                etag category_id  \\\n",
       "0  \"m2yskBQFythfE4irbTIeOgYYfBU/Xy1mB4_yLrHy_BmKm...           1   \n",
       "1  \"m2yskBQFythfE4irbTIeOgYYfBU/UZ1oLIIz2dxIhO45Z...           2   \n",
       "2  \"m2yskBQFythfE4irbTIeOgYYfBU/nqRIq97-xe5XRZTxb...          10   \n",
       "3  \"m2yskBQFythfE4irbTIeOgYYfBU/HwXKamM1Q20q9BN-o...          15   \n",
       "4  \"m2yskBQFythfE4irbTIeOgYYfBU/9GQMSRjrZdHeb1OEM...          17   \n",
       "\n",
       "                    kind  snippet.assignable         snippet.channelId  \\\n",
       "0  youtube#videoCategory                True  UCBR8-60-B28hp2BmDPdntcQ   \n",
       "1  youtube#videoCategory                True  UCBR8-60-B28hp2BmDPdntcQ   \n",
       "2  youtube#videoCategory                True  UCBR8-60-B28hp2BmDPdntcQ   \n",
       "3  youtube#videoCategory                True  UCBR8-60-B28hp2BmDPdntcQ   \n",
       "4  youtube#videoCategory                True  UCBR8-60-B28hp2BmDPdntcQ   \n",
       "\n",
       "      category_name  \n",
       "0  Film & Animation  \n",
       "1  Autos & Vehicles  \n",
       "2             Music  \n",
       "3    Pets & Animals  \n",
       "4            Sports  "
      ]
     },
     "execution_count": 24,
     "metadata": {},
     "output_type": "execute_result"
    }
   ],
   "source": [
    "#flattening the nested json to dataframe\n",
    "us_video_json_normalized = json_normalize(us_video_json['items'])\n",
    "\n",
    "#rename column names (id to category_id) and (snippet.title to category name)\n",
    "us_video_json_normalized.rename(columns={'id':'category_id',\n",
    "                          'snippet.title':'category_name'}, \n",
    "                 inplace=True)\n",
    "us_video_json_normalized.head()"
   ]
  },
  {
   "cell_type": "code",
   "execution_count": 35,
   "metadata": {},
   "outputs": [
    {
     "data": {
      "text/html": [
       "<div>\n",
       "<style scoped>\n",
       "    .dataframe tbody tr th:only-of-type {\n",
       "        vertical-align: middle;\n",
       "    }\n",
       "\n",
       "    .dataframe tbody tr th {\n",
       "        vertical-align: top;\n",
       "    }\n",
       "\n",
       "    .dataframe thead th {\n",
       "        text-align: right;\n",
       "    }\n",
       "</style>\n",
       "<table border=\"1\" class=\"dataframe\">\n",
       "  <thead>\n",
       "    <tr style=\"text-align: right;\">\n",
       "      <th></th>\n",
       "      <th>category_id</th>\n",
       "      <th>category_name</th>\n",
       "    </tr>\n",
       "  </thead>\n",
       "  <tbody>\n",
       "    <tr>\n",
       "      <th>0</th>\n",
       "      <td>1</td>\n",
       "      <td>Film &amp; Animation</td>\n",
       "    </tr>\n",
       "    <tr>\n",
       "      <th>1</th>\n",
       "      <td>2</td>\n",
       "      <td>Autos &amp; Vehicles</td>\n",
       "    </tr>\n",
       "    <tr>\n",
       "      <th>2</th>\n",
       "      <td>10</td>\n",
       "      <td>Music</td>\n",
       "    </tr>\n",
       "    <tr>\n",
       "      <th>3</th>\n",
       "      <td>15</td>\n",
       "      <td>Pets &amp; Animals</td>\n",
       "    </tr>\n",
       "    <tr>\n",
       "      <th>4</th>\n",
       "      <td>17</td>\n",
       "      <td>Sports</td>\n",
       "    </tr>\n",
       "  </tbody>\n",
       "</table>\n",
       "</div>"
      ],
      "text/plain": [
       "  category_id     category_name\n",
       "0           1  Film & Animation\n",
       "1           2  Autos & Vehicles\n",
       "2          10             Music\n",
       "3          15    Pets & Animals\n",
       "4          17            Sports"
      ]
     },
     "execution_count": 35,
     "metadata": {},
     "output_type": "execute_result"
    }
   ],
   "source": [
    "#dataframe with video categories for category table\n",
    "category = us_video_json_normalized[[\"category_id\",\"category_name\"]]\n",
    "category.head()"
   ]
  },
  {
   "cell_type": "markdown",
   "metadata": {},
   "source": [
    "### LOAD"
   ]
  },
  {
   "cell_type": "code",
   "execution_count": 26,
   "metadata": {},
   "outputs": [
    {
     "name": "stdout",
     "output_type": "stream",
     "text": [
      "Requirement already satisfied: psycopg2 in c:\\users\\rima\\anaconda3\\lib\\site-packages (2.8.3)\n"
     ]
    }
   ],
   "source": [
    "#dependencies\n",
    "!pip install psycopg2"
   ]
  },
  {
   "cell_type": "code",
   "execution_count": 27,
   "metadata": {},
   "outputs": [],
   "source": [
    "#connect to local database\n",
    "rds_connection_string = \"postgres:postgres@localhost:5432/youtube_db\"\n",
    "\n",
    "engine = create_engine(f'postgresql://{rds_connection_string}')"
   ]
  },
  {
   "cell_type": "code",
   "execution_count": 28,
   "metadata": {},
   "outputs": [
    {
     "data": {
      "text/plain": [
       "['country', 'popularity', 'videos', 'category']"
      ]
     },
     "execution_count": 28,
     "metadata": {},
     "output_type": "execute_result"
    }
   ],
   "source": [
    "#check tables already created using the table schema sql generated from Quick database diagram\n",
    "engine.table_names()"
   ]
  },
  {
   "cell_type": "markdown",
   "metadata": {},
   "source": [
    "##### Load Table 1 | video\n"
   ]
  },
  {
   "cell_type": "code",
   "execution_count": 29,
   "metadata": {},
   "outputs": [],
   "source": [
    "#Use pandas to load csv converted DataFrame into database\n",
    "videos.to_sql(name='videos', con=engine, if_exists='append', index=False)"
   ]
  },
  {
   "cell_type": "markdown",
   "metadata": {},
   "source": [
    "##### Load Table 2 | country"
   ]
  },
  {
   "cell_type": "code",
   "execution_count": 30,
   "metadata": {},
   "outputs": [],
   "source": [
    "#Use pandas to load csv converted DataFrame into database\n",
    "country.to_sql(name='country', con=engine, if_exists='append', index=False)"
   ]
  },
  {
   "cell_type": "markdown",
   "metadata": {},
   "source": [
    "##### Load Table 4 | category\n",
    "##### Have to load Table 4 before Table 3 due to dependency (foreign key category_id)"
   ]
  },
  {
   "cell_type": "code",
   "execution_count": 33,
   "metadata": {},
   "outputs": [],
   "source": [
    "category.to_sql(name='category', con=engine, if_exists='append', index=False)"
   ]
  },
  {
   "cell_type": "markdown",
   "metadata": {},
   "source": [
    "##### Load Table 3 | popularity"
   ]
  },
  {
   "cell_type": "code",
   "execution_count": 34,
   "metadata": {},
   "outputs": [],
   "source": [
    "#Use pandas to load csv converted DataFrame into database\n",
    "popularity.to_sql(name='popularity', con=engine, if_exists='append', index=False)"
   ]
  },
  {
   "cell_type": "code",
   "execution_count": null,
   "metadata": {},
   "outputs": [],
   "source": []
  }
 ],
 "metadata": {
  "anaconda-cloud": {},
  "kernel_info": {
   "name": "python3"
  },
  "kernelspec": {
   "display_name": "Python 3",
   "language": "python",
   "name": "python3"
  },
  "language_info": {
   "codemirror_mode": {
    "name": "ipython",
    "version": 3
   },
   "file_extension": ".py",
   "mimetype": "text/x-python",
   "name": "python",
   "nbconvert_exporter": "python",
   "pygments_lexer": "ipython3",
   "version": "3.7.3"
  },
  "nteract": {
   "version": "0.8.4"
  }
 },
 "nbformat": 4,
 "nbformat_minor": 1
}
